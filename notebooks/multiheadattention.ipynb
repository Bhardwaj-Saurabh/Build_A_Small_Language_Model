{
 "cells": [
  {
   "cell_type": "code",
   "execution_count": 1,
   "id": "a8efaf0a",
   "metadata": {},
   "outputs": [],
   "source": [
    "import torch\n",
    "import torch.nn as nn"
   ]
  },
  {
   "cell_type": "code",
   "execution_count": null,
   "id": "5a861aae",
   "metadata": {},
   "outputs": [],
   "source": [
    "class MultiHeadAttention(nn.Module):\n",
    "    def __init__(self, d_in, d_out, \n",
    "                 context_length, num_heads,\n",
    "                 dropout=0.0, qkv_bias=False):\n",
    "        super().__init__()\n",
    "        assert d_out % num_heads == 0, \"d_out must be divisible by num_heads\"\n",
    "        self.d_out = d_out\n",
    "        self.num_heads = num_heads\n",
    "        self.head_dim = d_out // num_heads\n",
    "        self.W_query = nn.linear(d_in, d_out, bias=qkv_bias)\n",
    "        self.W_key = nn.linear(d_in, d_out, bias=qkv_bias)\n",
    "        self.W_value = nn.linear(d_in, d_out, bias=qkv_bias)\n",
    "        self.register_buffer(\n",
    "            \"mask\", torch.triu(torch.ones(\n",
    "                context_length, context_length), diagonal=1)(\n",
    "            ))\n",
    "        self.dropout = nn.Dropout(dropout)\n",
    "        self.out_proj = nn.Linear(d_out, d_out)\n",
    "        \n",
    "    def forward(self, x):\n",
    "        B, T, C = x.shape\n",
    "        \n",
    "        queries = self.W_query(x)\n",
    "        keys = self.W_key(x)\n",
    "        values = self.W_value(x)\n",
    "        \n",
    "        queries = queries.view(B, T, self.num_heads, self.head_dim)\n",
    "        keys = keys.view(B, T, self.num_heads, self.head_dim)\n",
    "        values = values.view(B, T, self.num_heads, self.head_dim)\n",
    "        \n",
    "        queries = queries.transpose(1, 2)\n",
    "        keys = keys.transpose(1, 2)\n",
    "        values = values.transpose(1, 2)\n",
    "        \n",
    "        att_scores = queries @ keys.transpose(2, 3)\n",
    "        att_scores = att_scores/keys.shape[-1]**0.5\n",
    "        \n",
    "        att_scores.masked_fill_(\n",
    "            self.mask.bool()[:T, :T], -torch.inf\n",
    "        )\n",
    "        \n",
    "        att_weights = torch.softmax(att_scores, dim=-1)\n",
    "        att_weights = self.dropout(att_weights)\n",
    "        \n",
    "        context_vec = (att_weights @ values).transpose(1, 2)\n",
    "        \n",
    "        context_vec = context_vec.contiguous().view(B, T, self.d_out)\n",
    "        \n",
    "        out = self.out_proj(context_vec)\n",
    "        \n",
    "        return out\n",
    "        \n",
    "        \n",
    "        "
   ]
  },
  {
   "cell_type": "code",
   "execution_count": null,
   "id": "f0417d43",
   "metadata": {},
   "outputs": [],
   "source": []
  },
  {
   "cell_type": "code",
   "execution_count": null,
   "id": "df3b4a65",
   "metadata": {},
   "outputs": [],
   "source": []
  }
 ],
 "metadata": {
  "kernelspec": {
   "display_name": "build-a-small-language-model",
   "language": "python",
   "name": "python3"
  },
  "language_info": {
   "codemirror_mode": {
    "name": "ipython",
    "version": 3
   },
   "file_extension": ".py",
   "mimetype": "text/x-python",
   "name": "python",
   "nbconvert_exporter": "python",
   "pygments_lexer": "ipython3",
   "version": "3.12.10"
  }
 },
 "nbformat": 4,
 "nbformat_minor": 5
}
